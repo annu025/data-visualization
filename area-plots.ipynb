{
 "cells": [
  {
   "cell_type": "code",
   "execution_count": 41,
   "metadata": {},
   "outputs": [],
   "source": [
    "# import the necessary libraries\n",
    "import matplotlib as mpl\n",
    "import matplotlib.pyplot as plt # for scripting layer\n",
    "import pandas as pd"
   ]
  },
  {
   "cell_type": "code",
   "execution_count": 42,
   "metadata": {},
   "outputs": [
    {
     "name": "stdout",
     "output_type": "stream",
     "text": [
      "Data read into a pandas dataframe!\n"
     ]
    }
   ],
   "source": [
    "# import the dataset\n",
    "df_can = pd.read_excel(\n",
    "    'https://cf-courses-data.s3.us.cloud-object-storage.appdomain.cloud/IBMDeveloperSkillsNetwork-DV0101EN-SkillsNetwork/Data%20Files/Canada.xlsx',\n",
    "    sheet_name='Canada by Citizenship',\n",
    "    skiprows=range(20),\n",
    "    skipfooter=2)\n",
    "\n",
    "print('Data read into a pandas dataframe!')"
   ]
  },
  {
   "cell_type": "code",
   "execution_count": 43,
   "metadata": {},
   "outputs": [
    {
     "data": {
      "text/plain": [
       "['1980',\n",
       " '1981',\n",
       " '1982',\n",
       " '1983',\n",
       " '1984',\n",
       " '1985',\n",
       " '1986',\n",
       " '1987',\n",
       " '1988',\n",
       " '1989',\n",
       " '1990',\n",
       " '1991',\n",
       " '1992',\n",
       " '1993',\n",
       " '1994',\n",
       " '1995',\n",
       " '1996',\n",
       " '1997',\n",
       " '1998',\n",
       " '1999',\n",
       " '2000',\n",
       " '2001',\n",
       " '2002',\n",
       " '2003',\n",
       " '2004',\n",
       " '2005',\n",
       " '2006',\n",
       " '2007',\n",
       " '2008',\n",
       " '2009',\n",
       " '2010',\n",
       " '2011',\n",
       " '2012',\n",
       " '2013']"
      ]
     },
     "execution_count": 43,
     "metadata": {},
     "output_type": "execute_result"
    }
   ],
   "source": [
    "# make a new list called years that has a range of years starting from 1980 to 2013\n",
    "\n",
    "years = range(1980,2014)\n",
    "\n",
    "# convert to a strings list\n",
    "years = list(map(str, range(1980,2014)))\n",
    "years\n",
    "\n",
    "# for yr in years:\n",
    "#     print(yr)"
   ]
  },
  {
   "cell_type": "code",
   "execution_count": 44,
   "metadata": {},
   "outputs": [
    {
     "data": {
      "text/html": [
       "<div>\n",
       "<style scoped>\n",
       "    .dataframe tbody tr th:only-of-type {\n",
       "        vertical-align: middle;\n",
       "    }\n",
       "\n",
       "    .dataframe tbody tr th {\n",
       "        vertical-align: top;\n",
       "    }\n",
       "\n",
       "    .dataframe thead th {\n",
       "        text-align: right;\n",
       "    }\n",
       "</style>\n",
       "<table border=\"1\" class=\"dataframe\">\n",
       "  <thead>\n",
       "    <tr style=\"text-align: right;\">\n",
       "      <th></th>\n",
       "      <th>Type</th>\n",
       "      <th>Coverage</th>\n",
       "      <th>OdName</th>\n",
       "      <th>AREA</th>\n",
       "      <th>AreaName</th>\n",
       "      <th>REG</th>\n",
       "      <th>RegName</th>\n",
       "      <th>DEV</th>\n",
       "      <th>DevName</th>\n",
       "      <th>1980</th>\n",
       "      <th>...</th>\n",
       "      <th>2004</th>\n",
       "      <th>2005</th>\n",
       "      <th>2006</th>\n",
       "      <th>2007</th>\n",
       "      <th>2008</th>\n",
       "      <th>2009</th>\n",
       "      <th>2010</th>\n",
       "      <th>2011</th>\n",
       "      <th>2012</th>\n",
       "      <th>2013</th>\n",
       "    </tr>\n",
       "  </thead>\n",
       "  <tbody>\n",
       "    <tr>\n",
       "      <th>0</th>\n",
       "      <td>Immigrants</td>\n",
       "      <td>Foreigners</td>\n",
       "      <td>Afghanistan</td>\n",
       "      <td>935</td>\n",
       "      <td>Asia</td>\n",
       "      <td>5501</td>\n",
       "      <td>Southern Asia</td>\n",
       "      <td>902</td>\n",
       "      <td>Developing regions</td>\n",
       "      <td>16</td>\n",
       "      <td>...</td>\n",
       "      <td>2978</td>\n",
       "      <td>3436</td>\n",
       "      <td>3009</td>\n",
       "      <td>2652</td>\n",
       "      <td>2111</td>\n",
       "      <td>1746</td>\n",
       "      <td>1758</td>\n",
       "      <td>2203</td>\n",
       "      <td>2635</td>\n",
       "      <td>2004</td>\n",
       "    </tr>\n",
       "    <tr>\n",
       "      <th>1</th>\n",
       "      <td>Immigrants</td>\n",
       "      <td>Foreigners</td>\n",
       "      <td>Albania</td>\n",
       "      <td>908</td>\n",
       "      <td>Europe</td>\n",
       "      <td>925</td>\n",
       "      <td>Southern Europe</td>\n",
       "      <td>901</td>\n",
       "      <td>Developed regions</td>\n",
       "      <td>1</td>\n",
       "      <td>...</td>\n",
       "      <td>1450</td>\n",
       "      <td>1223</td>\n",
       "      <td>856</td>\n",
       "      <td>702</td>\n",
       "      <td>560</td>\n",
       "      <td>716</td>\n",
       "      <td>561</td>\n",
       "      <td>539</td>\n",
       "      <td>620</td>\n",
       "      <td>603</td>\n",
       "    </tr>\n",
       "    <tr>\n",
       "      <th>2</th>\n",
       "      <td>Immigrants</td>\n",
       "      <td>Foreigners</td>\n",
       "      <td>Algeria</td>\n",
       "      <td>903</td>\n",
       "      <td>Africa</td>\n",
       "      <td>912</td>\n",
       "      <td>Northern Africa</td>\n",
       "      <td>902</td>\n",
       "      <td>Developing regions</td>\n",
       "      <td>80</td>\n",
       "      <td>...</td>\n",
       "      <td>3616</td>\n",
       "      <td>3626</td>\n",
       "      <td>4807</td>\n",
       "      <td>3623</td>\n",
       "      <td>4005</td>\n",
       "      <td>5393</td>\n",
       "      <td>4752</td>\n",
       "      <td>4325</td>\n",
       "      <td>3774</td>\n",
       "      <td>4331</td>\n",
       "    </tr>\n",
       "    <tr>\n",
       "      <th>3</th>\n",
       "      <td>Immigrants</td>\n",
       "      <td>Foreigners</td>\n",
       "      <td>American Samoa</td>\n",
       "      <td>909</td>\n",
       "      <td>Oceania</td>\n",
       "      <td>957</td>\n",
       "      <td>Polynesia</td>\n",
       "      <td>902</td>\n",
       "      <td>Developing regions</td>\n",
       "      <td>0</td>\n",
       "      <td>...</td>\n",
       "      <td>0</td>\n",
       "      <td>0</td>\n",
       "      <td>1</td>\n",
       "      <td>0</td>\n",
       "      <td>0</td>\n",
       "      <td>0</td>\n",
       "      <td>0</td>\n",
       "      <td>0</td>\n",
       "      <td>0</td>\n",
       "      <td>0</td>\n",
       "    </tr>\n",
       "    <tr>\n",
       "      <th>4</th>\n",
       "      <td>Immigrants</td>\n",
       "      <td>Foreigners</td>\n",
       "      <td>Andorra</td>\n",
       "      <td>908</td>\n",
       "      <td>Europe</td>\n",
       "      <td>925</td>\n",
       "      <td>Southern Europe</td>\n",
       "      <td>901</td>\n",
       "      <td>Developed regions</td>\n",
       "      <td>0</td>\n",
       "      <td>...</td>\n",
       "      <td>0</td>\n",
       "      <td>0</td>\n",
       "      <td>1</td>\n",
       "      <td>1</td>\n",
       "      <td>0</td>\n",
       "      <td>0</td>\n",
       "      <td>0</td>\n",
       "      <td>0</td>\n",
       "      <td>1</td>\n",
       "      <td>1</td>\n",
       "    </tr>\n",
       "  </tbody>\n",
       "</table>\n",
       "<p>5 rows × 43 columns</p>\n",
       "</div>"
      ],
      "text/plain": [
       "         Type    Coverage          OdName  AREA AreaName   REG  \\\n",
       "0  Immigrants  Foreigners     Afghanistan   935     Asia  5501   \n",
       "1  Immigrants  Foreigners         Albania   908   Europe   925   \n",
       "2  Immigrants  Foreigners         Algeria   903   Africa   912   \n",
       "3  Immigrants  Foreigners  American Samoa   909  Oceania   957   \n",
       "4  Immigrants  Foreigners         Andorra   908   Europe   925   \n",
       "\n",
       "           RegName  DEV             DevName  1980  ...  2004  2005  2006  \\\n",
       "0    Southern Asia  902  Developing regions    16  ...  2978  3436  3009   \n",
       "1  Southern Europe  901   Developed regions     1  ...  1450  1223   856   \n",
       "2  Northern Africa  902  Developing regions    80  ...  3616  3626  4807   \n",
       "3        Polynesia  902  Developing regions     0  ...     0     0     1   \n",
       "4  Southern Europe  901   Developed regions     0  ...     0     0     1   \n",
       "\n",
       "   2007  2008  2009  2010  2011  2012  2013  \n",
       "0  2652  2111  1746  1758  2203  2635  2004  \n",
       "1   702   560   716   561   539   620   603  \n",
       "2  3623  4005  5393  4752  4325  3774  4331  \n",
       "3     0     0     0     0     0     0     0  \n",
       "4     1     0     0     0     0     1     1  \n",
       "\n",
       "[5 rows x 43 columns]"
      ]
     },
     "execution_count": 44,
     "metadata": {},
     "output_type": "execute_result"
    }
   ],
   "source": [
    "df_can.head()"
   ]
  },
  {
   "cell_type": "markdown",
   "metadata": {},
   "source": [
    "Let's clean the data set to remove a few unnecessary columns. We can use *pandas* `drop()` method as follows:"
   ]
  },
  {
   "cell_type": "code",
   "execution_count": 45,
   "metadata": {},
   "outputs": [
    {
     "data": {
      "text/html": [
       "<div>\n",
       "<style scoped>\n",
       "    .dataframe tbody tr th:only-of-type {\n",
       "        vertical-align: middle;\n",
       "    }\n",
       "\n",
       "    .dataframe tbody tr th {\n",
       "        vertical-align: top;\n",
       "    }\n",
       "\n",
       "    .dataframe thead th {\n",
       "        text-align: right;\n",
       "    }\n",
       "</style>\n",
       "<table border=\"1\" class=\"dataframe\">\n",
       "  <thead>\n",
       "    <tr style=\"text-align: right;\">\n",
       "      <th></th>\n",
       "      <th>OdName</th>\n",
       "      <th>AreaName</th>\n",
       "      <th>RegName</th>\n",
       "      <th>DevName</th>\n",
       "      <th>1980</th>\n",
       "      <th>1981</th>\n",
       "      <th>1982</th>\n",
       "      <th>1983</th>\n",
       "      <th>1984</th>\n",
       "      <th>1985</th>\n",
       "      <th>...</th>\n",
       "      <th>2004</th>\n",
       "      <th>2005</th>\n",
       "      <th>2006</th>\n",
       "      <th>2007</th>\n",
       "      <th>2008</th>\n",
       "      <th>2009</th>\n",
       "      <th>2010</th>\n",
       "      <th>2011</th>\n",
       "      <th>2012</th>\n",
       "      <th>2013</th>\n",
       "    </tr>\n",
       "  </thead>\n",
       "  <tbody>\n",
       "    <tr>\n",
       "      <th>0</th>\n",
       "      <td>Afghanistan</td>\n",
       "      <td>Asia</td>\n",
       "      <td>Southern Asia</td>\n",
       "      <td>Developing regions</td>\n",
       "      <td>16</td>\n",
       "      <td>39</td>\n",
       "      <td>39</td>\n",
       "      <td>47</td>\n",
       "      <td>71</td>\n",
       "      <td>340</td>\n",
       "      <td>...</td>\n",
       "      <td>2978</td>\n",
       "      <td>3436</td>\n",
       "      <td>3009</td>\n",
       "      <td>2652</td>\n",
       "      <td>2111</td>\n",
       "      <td>1746</td>\n",
       "      <td>1758</td>\n",
       "      <td>2203</td>\n",
       "      <td>2635</td>\n",
       "      <td>2004</td>\n",
       "    </tr>\n",
       "    <tr>\n",
       "      <th>1</th>\n",
       "      <td>Albania</td>\n",
       "      <td>Europe</td>\n",
       "      <td>Southern Europe</td>\n",
       "      <td>Developed regions</td>\n",
       "      <td>1</td>\n",
       "      <td>0</td>\n",
       "      <td>0</td>\n",
       "      <td>0</td>\n",
       "      <td>0</td>\n",
       "      <td>0</td>\n",
       "      <td>...</td>\n",
       "      <td>1450</td>\n",
       "      <td>1223</td>\n",
       "      <td>856</td>\n",
       "      <td>702</td>\n",
       "      <td>560</td>\n",
       "      <td>716</td>\n",
       "      <td>561</td>\n",
       "      <td>539</td>\n",
       "      <td>620</td>\n",
       "      <td>603</td>\n",
       "    </tr>\n",
       "  </tbody>\n",
       "</table>\n",
       "<p>2 rows × 38 columns</p>\n",
       "</div>"
      ],
      "text/plain": [
       "        OdName AreaName          RegName             DevName  1980  1981  \\\n",
       "0  Afghanistan     Asia    Southern Asia  Developing regions    16    39   \n",
       "1      Albania   Europe  Southern Europe   Developed regions     1     0   \n",
       "\n",
       "   1982  1983  1984  1985  ...  2004  2005  2006  2007  2008  2009  2010  \\\n",
       "0    39    47    71   340  ...  2978  3436  3009  2652  2111  1746  1758   \n",
       "1     0     0     0     0  ...  1450  1223   856   702   560   716   561   \n",
       "\n",
       "   2011  2012  2013  \n",
       "0  2203  2635  2004  \n",
       "1   539   620   603  \n",
       "\n",
       "[2 rows x 38 columns]"
      ]
     },
     "execution_count": 45,
     "metadata": {},
     "output_type": "execute_result"
    }
   ],
   "source": [
    "# in pandas axis=0 represents rows (default) and axis=1 represents columns.\n",
    "df_can.drop(['AREA','REG','DEV','Type','Coverage'], axis=1, inplace=True)\n",
    "df_can.head(2)"
   ]
  },
  {
   "cell_type": "markdown",
   "metadata": {
    "button": false,
    "new_sheet": false,
    "run_control": {
     "read_only": false
    }
   },
   "source": [
    "Let's rename the columns so that they make sense. We can use `rename()` method by passing in a dictionary of old and new names as follows:\n"
   ]
  },
  {
   "cell_type": "code",
   "execution_count": 46,
   "metadata": {
    "button": false,
    "new_sheet": false,
    "run_control": {
     "read_only": false
    },
    "scrolled": false
   },
   "outputs": [
    {
     "data": {
      "text/plain": [
       "Index([  'Country', 'Continent',    'Region',   'DevName',        1980,\n",
       "              1981,        1982,        1983,        1984,        1985,\n",
       "              1986,        1987,        1988,        1989,        1990,\n",
       "              1991,        1992,        1993,        1994,        1995,\n",
       "              1996,        1997,        1998,        1999,        2000,\n",
       "              2001,        2002,        2003,        2004,        2005,\n",
       "              2006,        2007,        2008,        2009,        2010,\n",
       "              2011,        2012,        2013],\n",
       "      dtype='object')"
      ]
     },
     "execution_count": 46,
     "metadata": {},
     "output_type": "execute_result"
    }
   ],
   "source": [
    "df_can.rename(columns={'OdName':'Country', 'AreaName':'Continent', 'RegName':'Region'}, inplace=True)\n",
    "df_can.columns"
   ]
  },
  {
   "cell_type": "markdown",
   "metadata": {
    "button": false,
    "new_sheet": false,
    "run_control": {
     "read_only": false
    }
   },
   "source": [
    "Column names that are integers (such as the years) might introduce some confusion. For example, when we are referencing the year 2013, one might confuse that with the 2013th positional index.\n",
    "\n",
    "To avoid this ambuigity, let's convert the column names into strings: '1980' to '2013'.\n"
   ]
  },
  {
   "cell_type": "code",
   "execution_count": 47,
   "metadata": {
    "button": false,
    "new_sheet": false,
    "run_control": {
     "read_only": false
    },
    "scrolled": false
   },
   "outputs": [],
   "source": [
    "df_can.columns = df_can.columns.astype(str)"
   ]
  },
  {
   "cell_type": "markdown",
   "metadata": {
    "button": false,
    "new_sheet": false,
    "run_control": {
     "read_only": false
    }
   },
   "source": [
    "Before we proceed, notice that the default index of the dataset is a numeric range from 0 to 194. This makes it very difficult to do a query by a specific country. For example to search for data on Japan, we need to know the corresponding index value.\n",
    "\n",
    "This can be fixed very easily by setting the 'Country' column as the index using `set_index()` method.\n"
   ]
  },
  {
   "cell_type": "code",
   "execution_count": 48,
   "metadata": {
    "button": false,
    "new_sheet": false,
    "run_control": {
     "read_only": false
    },
    "scrolled": true
   },
   "outputs": [],
   "source": [
    "df_can.set_index('Country', inplace=True)\n",
    "# tip: The opposite of set is reset. So to reset the index, we can use df_can.reset_index()"
   ]
  },
  {
   "cell_type": "code",
   "execution_count": 49,
   "metadata": {
    "button": false,
    "new_sheet": false,
    "run_control": {
     "read_only": false
    },
    "scrolled": false
   },
   "outputs": [
    {
     "data": {
      "text/html": [
       "<div>\n",
       "<style scoped>\n",
       "    .dataframe tbody tr th:only-of-type {\n",
       "        vertical-align: middle;\n",
       "    }\n",
       "\n",
       "    .dataframe tbody tr th {\n",
       "        vertical-align: top;\n",
       "    }\n",
       "\n",
       "    .dataframe thead th {\n",
       "        text-align: right;\n",
       "    }\n",
       "</style>\n",
       "<table border=\"1\" class=\"dataframe\">\n",
       "  <thead>\n",
       "    <tr style=\"text-align: right;\">\n",
       "      <th></th>\n",
       "      <th>Continent</th>\n",
       "      <th>Region</th>\n",
       "      <th>DevName</th>\n",
       "      <th>1980</th>\n",
       "      <th>1981</th>\n",
       "      <th>1982</th>\n",
       "      <th>1983</th>\n",
       "      <th>1984</th>\n",
       "      <th>1985</th>\n",
       "      <th>1986</th>\n",
       "      <th>...</th>\n",
       "      <th>2004</th>\n",
       "      <th>2005</th>\n",
       "      <th>2006</th>\n",
       "      <th>2007</th>\n",
       "      <th>2008</th>\n",
       "      <th>2009</th>\n",
       "      <th>2010</th>\n",
       "      <th>2011</th>\n",
       "      <th>2012</th>\n",
       "      <th>2013</th>\n",
       "    </tr>\n",
       "    <tr>\n",
       "      <th>Country</th>\n",
       "      <th></th>\n",
       "      <th></th>\n",
       "      <th></th>\n",
       "      <th></th>\n",
       "      <th></th>\n",
       "      <th></th>\n",
       "      <th></th>\n",
       "      <th></th>\n",
       "      <th></th>\n",
       "      <th></th>\n",
       "      <th></th>\n",
       "      <th></th>\n",
       "      <th></th>\n",
       "      <th></th>\n",
       "      <th></th>\n",
       "      <th></th>\n",
       "      <th></th>\n",
       "      <th></th>\n",
       "      <th></th>\n",
       "      <th></th>\n",
       "      <th></th>\n",
       "    </tr>\n",
       "  </thead>\n",
       "  <tbody>\n",
       "    <tr>\n",
       "      <th>Afghanistan</th>\n",
       "      <td>Asia</td>\n",
       "      <td>Southern Asia</td>\n",
       "      <td>Developing regions</td>\n",
       "      <td>16</td>\n",
       "      <td>39</td>\n",
       "      <td>39</td>\n",
       "      <td>47</td>\n",
       "      <td>71</td>\n",
       "      <td>340</td>\n",
       "      <td>496</td>\n",
       "      <td>...</td>\n",
       "      <td>2978</td>\n",
       "      <td>3436</td>\n",
       "      <td>3009</td>\n",
       "      <td>2652</td>\n",
       "      <td>2111</td>\n",
       "      <td>1746</td>\n",
       "      <td>1758</td>\n",
       "      <td>2203</td>\n",
       "      <td>2635</td>\n",
       "      <td>2004</td>\n",
       "    </tr>\n",
       "    <tr>\n",
       "      <th>Albania</th>\n",
       "      <td>Europe</td>\n",
       "      <td>Southern Europe</td>\n",
       "      <td>Developed regions</td>\n",
       "      <td>1</td>\n",
       "      <td>0</td>\n",
       "      <td>0</td>\n",
       "      <td>0</td>\n",
       "      <td>0</td>\n",
       "      <td>0</td>\n",
       "      <td>1</td>\n",
       "      <td>...</td>\n",
       "      <td>1450</td>\n",
       "      <td>1223</td>\n",
       "      <td>856</td>\n",
       "      <td>702</td>\n",
       "      <td>560</td>\n",
       "      <td>716</td>\n",
       "      <td>561</td>\n",
       "      <td>539</td>\n",
       "      <td>620</td>\n",
       "      <td>603</td>\n",
       "    </tr>\n",
       "    <tr>\n",
       "      <th>Algeria</th>\n",
       "      <td>Africa</td>\n",
       "      <td>Northern Africa</td>\n",
       "      <td>Developing regions</td>\n",
       "      <td>80</td>\n",
       "      <td>67</td>\n",
       "      <td>71</td>\n",
       "      <td>69</td>\n",
       "      <td>63</td>\n",
       "      <td>44</td>\n",
       "      <td>69</td>\n",
       "      <td>...</td>\n",
       "      <td>3616</td>\n",
       "      <td>3626</td>\n",
       "      <td>4807</td>\n",
       "      <td>3623</td>\n",
       "      <td>4005</td>\n",
       "      <td>5393</td>\n",
       "      <td>4752</td>\n",
       "      <td>4325</td>\n",
       "      <td>3774</td>\n",
       "      <td>4331</td>\n",
       "    </tr>\n",
       "  </tbody>\n",
       "</table>\n",
       "<p>3 rows × 37 columns</p>\n",
       "</div>"
      ],
      "text/plain": [
       "            Continent           Region             DevName  1980  1981  1982  \\\n",
       "Country                                                                        \n",
       "Afghanistan      Asia    Southern Asia  Developing regions    16    39    39   \n",
       "Albania        Europe  Southern Europe   Developed regions     1     0     0   \n",
       "Algeria        Africa  Northern Africa  Developing regions    80    67    71   \n",
       "\n",
       "             1983  1984  1985  1986  ...  2004  2005  2006  2007  2008  2009  \\\n",
       "Country                              ...                                       \n",
       "Afghanistan    47    71   340   496  ...  2978  3436  3009  2652  2111  1746   \n",
       "Albania         0     0     0     1  ...  1450  1223   856   702   560   716   \n",
       "Algeria        69    63    44    69  ...  3616  3626  4807  3623  4005  5393   \n",
       "\n",
       "             2010  2011  2012  2013  \n",
       "Country                              \n",
       "Afghanistan  1758  2203  2635  2004  \n",
       "Albania       561   539   620   603  \n",
       "Algeria      4752  4325  3774  4331  \n",
       "\n",
       "[3 rows x 37 columns]"
      ]
     },
     "execution_count": 49,
     "metadata": {},
     "output_type": "execute_result"
    }
   ],
   "source": [
    "df_can.head(3)"
   ]
  },
  {
   "cell_type": "code",
   "execution_count": 50,
   "metadata": {},
   "outputs": [
    {
     "data": {
      "text/plain": [
       "1980    17\n",
       "1981    33\n",
       "1982    10\n",
       "1983     9\n",
       "1984    13\n",
       "1985     6\n",
       "1986    11\n",
       "1987    11\n",
       "1988     7\n",
       "1989     3\n",
       "1990     2\n",
       "1991    11\n",
       "1992    17\n",
       "1993    15\n",
       "1994    11\n",
       "1995     9\n",
       "1996    14\n",
       "1997    11\n",
       "1998    20\n",
       "1999    17\n",
       "2000     9\n",
       "2001    26\n",
       "2002    11\n",
       "2003    17\n",
       "2004    23\n",
       "2005    10\n",
       "2006     2\n",
       "2007    15\n",
       "2008    13\n",
       "2009    15\n",
       "2010    30\n",
       "2011    38\n",
       "2012    42\n",
       "2013    72\n",
       "Name: Iceland, dtype: object"
      ]
     },
     "execution_count": 50,
     "metadata": {},
     "output_type": "execute_result"
    }
   ],
   "source": [
    "df_iceland = df_can.loc['Iceland', years]\n",
    "df_iceland"
   ]
  },
  {
   "cell_type": "code",
   "execution_count": 52,
   "metadata": {},
   "outputs": [
    {
     "data": {
      "image/png": "[encoded data removed]",
      "text/plain": [
       "<Figure size 432x288 with 1 Axes>"
      ]
     },
     "metadata": {
      "needs_background": "light"
     },
     "output_type": "display_data"
    }
   ],
   "source": [
    "df_iceland.plot(kind='bar')\n",
    "\n",
    "plt.title('Immigration from Iceland to Canada between 1980 and 2013')\n",
    "plt.ylabel('Number of immigrants')\n",
    "plt.xlabel('Years')\n",
    "\n",
    "plt.show() # need this line to show the updates made to the figure"
   ]
  },
  {
   "cell_type": "code",
   "execution_count": null,
   "metadata": {},
   "outputs": [],
   "source": []
  }
 ],
 "metadata": {
  "interpreter": {
   "hash": "aee8b7b246df8f9039afb4144a1f6fd8d2ca17a180786b69acc140d282b71a49"
  },
  "kernelspec": {
   "display_name": "Python 3.9.6 64-bit",
   "language": "python",
   "name": "python3"
  },
  "language_info": {
   "codemirror_mode": {
    "name": "ipython",
    "version": 3
   },
   "file_extension": ".py",
   "mimetype": "text/x-python",
   "name": "python",
   "nbconvert_exporter": "python",
   "pygments_lexer": "ipython3",
   "version": "3.9.6"
  },
  "orig_nbformat": 4
 },
 "nbformat": 4,
 "nbformat_minor": 2
}
